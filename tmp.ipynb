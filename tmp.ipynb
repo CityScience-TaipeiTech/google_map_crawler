{
 "cells": [
  {
   "cell_type": "code",
   "execution_count": 1,
   "metadata": {},
   "outputs": [
    {
     "name": "stderr",
     "output_type": "stream",
     "text": [
      "/var/folders/5w/gl5hnrw15qj0ghrv_4zycp8r0000gn/T/ipykernel_1272/4142055404.py:22: FionaDeprecationWarning: instances of this class -- CRS, geometry, and feature objects -- will become immutable in fiona version 2.0\n",
      "  feature['geometry']['coordinates'] = [lon, lat]\n"
     ]
    }
   ],
   "source": [
    "import pyproj\n",
    "from shapely.geometry import Point, mapping\n",
    "from fiona import collection\n",
    "\n",
    "# 定義EPSG:3857和EPSG:4326投影\n",
    "project_3857 = pyproj.Transformer.from_crs('EPSG:3857', 'EPSG:4326', always_xy=True).transform\n",
    "project_4326 = pyproj.Transformer.from_crs('EPSG:4326', 'EPSG:3857', always_xy=True).transform\n",
    "\n",
    "# 讀取GeoJSON文件\n",
    "input_geojson = \"Taipei_point_100m.geojson\"\n",
    "\n",
    "# 轉換並寫入新的GeoJSON文件\n",
    "with collection(input_geojson, 'r') as input_file, collection(\"Taipei_point_100m_lat_lon.geojson\", 'w', 'GeoJSON', input_file.schema.copy(), crs=\"EPSG:4326\") as output_file:\n",
    "    for feature in input_file:\n",
    "        # 提取EPSG:3857座標\n",
    "        x, y = feature['geometry']['coordinates']\n",
    "\n",
    "        # 將座標轉換為EPSG:4326（經緯度）\n",
    "        lon, lat = project_3857(x, y)\n",
    "\n",
    "        # 更新Feature的座標\n",
    "        feature['geometry']['coordinates'] = [lon, lat]\n",
    "\n",
    "        # 寫入轉換後的Feature到新文件\n",
    "        output_file.write({\n",
    "            'properties': feature['properties'],\n",
    "            'geometry': mapping(Point(lon, lat)),\n",
    "        })\n"
   ]
  },
  {
   "cell_type": "code",
   "execution_count": 1,
   "metadata": {},
   "outputs": [],
   "source": [
    "import json\n",
    "\n",
    "with open('Taipei_point_100m_lat_lon.geojson') as f:\n",
    "    coordinates = json.load(f)['features']"
   ]
  },
  {
   "cell_type": "code",
   "execution_count": 2,
   "metadata": {},
   "outputs": [
    {
     "data": {
      "text/plain": [
       "33050"
      ]
     },
     "execution_count": 2,
     "metadata": {},
     "output_type": "execute_result"
    }
   ],
   "source": [
    "len(coordinates)"
   ]
  },
  {
   "cell_type": "code",
   "execution_count": null,
   "metadata": {},
   "outputs": [],
   "source": []
  }
 ],
 "metadata": {
  "kernelspec": {
   "display_name": "venv",
   "language": "python",
   "name": "python3"
  },
  "language_info": {
   "codemirror_mode": {
    "name": "ipython",
    "version": 3
   },
   "file_extension": ".py",
   "mimetype": "text/x-python",
   "name": "python",
   "nbconvert_exporter": "python",
   "pygments_lexer": "ipython3",
   "version": "3.9.7"
  }
 },
 "nbformat": 4,
 "nbformat_minor": 2
}
